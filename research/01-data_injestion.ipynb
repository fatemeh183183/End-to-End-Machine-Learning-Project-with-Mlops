{
 "cells": [
  {
   "cell_type": "code",
   "execution_count": 1,
   "id": "c867ce1d",
   "metadata": {},
   "outputs": [],
   "source": [
    "import os\n",
    "import sys\n",
    "from pathlib import Path\n",
    "ROOT= Path.cwd()\n",
    "sys.path.append(str(ROOT/\"src\"))\n"
   ]
  },
  {
   "cell_type": "code",
   "execution_count": 2,
   "id": "6f9fd782",
   "metadata": {},
   "outputs": [],
   "source": [
    "from dataclasses import dataclass\n",
    "from pathlib import Path\n",
    "\n",
    "\n",
    "@dataclass(frozen=True)\n",
    "class DataIngestionConfig:\n",
    "    root_dir: Path\n",
    "    source_URL: str\n",
    "    local_data_file: Path\n",
    "    unzip_dir: Path"
   ]
  },
  {
   "cell_type": "code",
   "execution_count": 3,
   "id": "146e0f0a",
   "metadata": {},
   "outputs": [
    {
     "name": "stdout",
     "output_type": "stream",
     "text": [
      "Requirement already satisfied: pip in /Users/fatemehshahlaei/Documents/mlproject /venv/lib/python3.11/site-packages (25.2)\n",
      "Note: you may need to restart the kernel to use updated packages.\n",
      "\u001b[31mERROR: Could not open requirements file: [Errno 2] No such file or directory: 'requirements.txt'\u001b[0m\u001b[31m\n",
      "\u001b[0mNote: you may need to restart the kernel to use updated packages.\n",
      "box 6.0.2 -> /Users/fatemehshahlaei/Documents/mlproject /venv/bin/python\n"
     ]
    }
   ],
   "source": [
    "%pip install --upgrade pip\n",
    "%pip install -r requirements.txt\n",
    "import box, yaml, sys\n",
    "print (\"box\",box.__version__, \"->\", sys.executable)"
   ]
  },
  {
   "cell_type": "code",
   "execution_count": 4,
   "id": "4a5383fb",
   "metadata": {},
   "outputs": [
    {
     "name": "stdout",
     "output_type": "stream",
     "text": [
      "PROJECT_ROOT = /Users/fatemehshahlaei/Documents/end to end ml project with mlops\n",
      "src on path? -> True\n",
      "mlProject exists? -> True\n",
      "spec -> ModuleSpec(name='mlProject', loader=<_frozen_importlib_external.SourceFileLoader object at 0x1105def10>, origin='/Users/fatemehshahlaei/Documents/end to end ml project with mlops/src/mlProject/__init__.py', submodule_search_locations=['/Users/fatemehshahlaei/Documents/end to end ml project with mlops/src/mlProject'])\n"
     ]
    }
   ],
   "source": [
    "from pathlib import Path\n",
    "import sys, importlib.util, os\n",
    "\n",
    "# 1) Find project root (where requirements.txt is)\n",
    "ROOT = Path.cwd()\n",
    "while ROOT != ROOT.parent and not (ROOT/\"requirements.txt\").exists():\n",
    "    ROOT = ROOT.parent\n",
    "\n",
    "print(\"PROJECT_ROOT =\", ROOT)\n",
    "\n",
    "# 2) Make sure src/ is on sys.path\n",
    "SRC = ROOT / \"src\"\n",
    "if str(SRC) not in sys.path:\n",
    "    sys.path.insert(0, str(SRC))\n",
    "\n",
    "# 3) Quick diagnostics\n",
    "print(\"src on path? ->\", str(SRC) in sys.path)\n",
    "print(\"mlProject exists? ->\", (SRC/\"mlProject\").is_dir())\n",
    "print(\"spec ->\", importlib.util.find_spec(\"mlProject\"))"
   ]
  },
  {
   "cell_type": "code",
   "execution_count": 5,
   "id": "d129646c",
   "metadata": {},
   "outputs": [
    {
     "name": "stdout",
     "output_type": "stream",
     "text": [
      "Obtaining file:///Users/fatemehshahlaei/Documents/end%20to%20end%20ml%20project%20with%20mlops/research (from -r /Users/fatemehshahlaei/Documents/end to end ml project with mlops/requirements.txt (line 15))\n",
      "\u001b[31mERROR: file:///Users/fatemehshahlaei/Documents/end%20to%20end%20ml%20project%20with%20mlops/research (from -r /Users/fatemehshahlaei/Documents/end to end ml project with mlops/requirements.txt (line 15)) does not appear to be a Python project: neither 'setup.py' nor 'pyproject.toml' found.\u001b[0m\u001b[31m\n",
      "\u001b[0mNote: you may need to restart the kernel to use updated packages.\n"
     ]
    }
   ],
   "source": [
    "%pip install -r \"{ROOT / 'requirements.txt'}\""
   ]
  },
  {
   "cell_type": "code",
   "execution_count": 6,
   "id": "f28f2175",
   "metadata": {},
   "outputs": [],
   "source": [
    "from mlProject.constants import *\n",
    "from mlProject.utils.common import read_yaml, create_directories\n",
    "\n",
    "from mlProject.logger import logger"
   ]
  },
  {
   "cell_type": "code",
   "execution_count": 7,
   "id": "44710636",
   "metadata": {},
   "outputs": [],
   "source": [
    "class ConfigurationManager:\n",
    "    def __init__(\n",
    "        self,\n",
    "        config_filepath = CONFIG_FILE_PATH,\n",
    "        params_filepath = PARAMS_FILE_PATH,\n",
    "        schema_filepath = SCHEMA_FILE_PATH):\n",
    "\n",
    "        self.config = read_yaml(config_filepath)\n",
    "        self.params = read_yaml(params_filepath)\n",
    "        self.schema = read_yaml(schema_filepath)\n",
    "\n",
    "        create_directories([self.config.artifacts_root])\n",
    "\n",
    "\n",
    "    \n",
    "    def get_data_ingestion_config(self) -> DataIngestionConfig:\n",
    "        config = self.config.data_ingestion\n",
    "\n",
    "        create_directories([config.root_dir])\n",
    "\n",
    "        data_ingestion_config = DataIngestionConfig(\n",
    "            root_dir=config.root_dir,\n",
    "            source_URL=config.source_URL,\n",
    "            local_data_file=config.local_data_file,\n",
    "            unzip_dir=config.unzip_dir \n",
    "        )\n",
    "\n",
    "        return data_ingestion_config\n"
   ]
  },
  {
   "cell_type": "code",
   "execution_count": 8,
   "id": "8a81ca7b",
   "metadata": {},
   "outputs": [],
   "source": [
    "import os\n",
    "import urllib.request as request\n",
    "import zipfile\n",
    "from mlProject import logger\n",
    "from mlProject.utils.common import get_size"
   ]
  },
  {
   "cell_type": "code",
   "execution_count": 9,
   "id": "9363845b",
   "metadata": {},
   "outputs": [],
   "source": [
    "class DataIngestion:\n",
    "    def __init__(self, config: DataIngestionConfig):\n",
    "        self.config = config\n",
    "\n",
    "\n",
    "    \n",
    "    def download_file(self):\n",
    "        if not os.path.exists(self.config.local_data_file):\n",
    "            filename, headers = request.urlretrieve(\n",
    "                url = self.config.source_URL,\n",
    "                filename = self.config.local_data_file\n",
    "            )\n",
    "            logger.info(f\"{filename} download! with following info: \\n{headers}\")\n",
    "        else:\n",
    "            logger.info(f\"File already exists of size: {get_size(Path(self.config.local_data_file))}\")\n",
    "\n",
    "\n",
    "\n",
    "    def extract_zip_file(self):\n",
    "        \"\"\"\n",
    "        zip_file_path: str\n",
    "        Extracts the zip file into the data directory\n",
    "        Function returns None\n",
    "        \"\"\"\n",
    "        unzip_path = self.config.unzip_dir\n",
    "        os.makedirs(unzip_path, exist_ok=True)\n",
    "        with zipfile.ZipFile(self.config.local_data_file, 'r') as zip_ref:\n",
    "            zip_ref.extractall(unzip_path)\n",
    "  "
   ]
  },
  {
   "cell_type": "code",
   "execution_count": null,
   "id": "9a2fb813",
   "metadata": {},
   "outputs": [],
   "source": [
    "try:\n",
    "    config = ConfigurationManager()\n",
    "    data_ingestion_config = config.get_data_ingestion_config()\n",
    "    data_ingestion = DataIngestion(config=data_ingestion_config)\n",
    "    data_ingestion.download_file()\n",
    "    data_ingestion.extract_zip_file()\n",
    "except Exception as e:\n",
    "    raise e"
   ]
  },
  {
   "cell_type": "code",
   "execution_count": null,
   "id": "955daf6c",
   "metadata": {},
   "outputs": [],
   "source": [
    "from mlProject.utils.common import read_yaml\n",
    "from mlProject.constants import CONFIG_FILE_PATH\n",
    "\n",
    "config = read_yaml(CONFIG_FILE_PATH)\n",
    "print(config)"
   ]
  }
 ],
 "metadata": {
  "kernelspec": {
   "display_name": "mlproject-venv",
   "language": "python",
   "name": "mlproject-venv"
  },
  "language_info": {
   "codemirror_mode": {
    "name": "ipython",
    "version": 3
   },
   "file_extension": ".py",
   "mimetype": "text/x-python",
   "name": "python",
   "nbconvert_exporter": "python",
   "pygments_lexer": "ipython3",
   "version": "3.11.8"
  }
 },
 "nbformat": 4,
 "nbformat_minor": 5
}
